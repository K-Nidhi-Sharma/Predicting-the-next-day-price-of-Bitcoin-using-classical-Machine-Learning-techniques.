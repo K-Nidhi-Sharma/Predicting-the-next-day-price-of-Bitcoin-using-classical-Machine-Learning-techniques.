{
 "cells": [
  {
   "cell_type": "markdown",
   "metadata": {
    "id": "SYNGI23uv9na"
   },
   "source": [
    "# <Center> PREDICTING THE NEXT DAY PRICE OF BITCOIN USING MACHINE LEARNING TECHNIQUES </center>\n",
    "## <center>Feature Engineering </center>\n",
    "### <center> 2148040, 2148041 </center>"
   ]
  },
  {
   "cell_type": "markdown",
   "metadata": {},
   "source": [
    "Feature engineering is a process of using domain knowledge of the data that is being used in the study to create features that make the predicting machine learning models work is a customized way.  \n",
    "\n",
    "Here, in the field of bitcoin prediction, we use technical indicators. Technical indicators are pattern-based signals produced by the price, volume, and/or open interest of a security or contract used by traders who follow technical analysis.\n",
    "\n",
    "\n",
    "By analyzing historical data, technical analysts use indicators to predict future price movements. Predictors or analysts use technical indicators in historical asset price data to judge entry and exit points for trades.  \n",
    "\n",
    "There are different indicators which show trend, momentum, volatility, volume. e.g., Moving averages, Rate of change, Bollinger bands, Moving Average Convergence Divergence, standard deviation, etc.\n",
    "\n",
    "We are considering following technical indicators of each feature for a period of past 7 days, 30 days & 90 days. Python library `Pandas-ta` was used to calculate all features."
   ]
  },
  {
   "cell_type": "markdown",
   "metadata": {},
   "source": [
    "## IMPORTING DATA AND LIBRARIES"
   ]
  },
  {
   "cell_type": "markdown",
   "metadata": {
    "id": "bMaZG9rROmjB"
   },
   "source": [
    "Use `!pip install pandas_ta` for Technical Analysis library."
   ]
  },
  {
   "cell_type": "code",
   "execution_count": 1,
   "metadata": {
    "id": "X3phUP9is_pK"
   },
   "outputs": [],
   "source": [
    "#Data Manipulation, analysis\n",
    "import pandas as pd\n",
    "import numpy as np\n",
    "\n",
    "#Visualization\n",
    "import seaborn as sns\n",
    "import matplotlib.pyplot as plt\n",
    "import matplotlib.cm as cm\n",
    "import matplotlib.lines as mlines\n",
    "\n",
    "#Statistical computation\n",
    "import scipy.stats as st\n",
    "from scipy.stats import describe\n",
    "\n",
    "#To ignore warnings \n",
    "import warnings\n",
    "warnings.filterwarnings(\"ignore\")\n",
    "\n",
    "#Using for feature eng. technical indicators calculation\n",
    "import pandas_ta as ta"
   ]
  },
  {
   "cell_type": "code",
   "execution_count": 2,
   "metadata": {
    "colab": {
     "base_uri": "https://localhost:8080/",
     "height": 607
    },
    "id": "nEyBJlrcIlfO",
    "outputId": "bd888cd5-64f4-4b02-c674-04c3fd3aaad4"
   },
   "outputs": [
    {
     "data": {
      "text/html": [
       "<div>\n",
       "<style scoped>\n",
       "    .dataframe tbody tr th:only-of-type {\n",
       "        vertical-align: middle;\n",
       "    }\n",
       "\n",
       "    .dataframe tbody tr th {\n",
       "        vertical-align: top;\n",
       "    }\n",
       "\n",
       "    .dataframe thead th {\n",
       "        text-align: right;\n",
       "    }\n",
       "</style>\n",
       "<table border=\"1\" class=\"dataframe\">\n",
       "  <thead>\n",
       "    <tr style=\"text-align: right;\">\n",
       "      <th></th>\n",
       "      <th>Unnamed: 0</th>\n",
       "      <th>Date</th>\n",
       "      <th>opening_price</th>\n",
       "      <th>highest_price</th>\n",
       "      <th>lowest_price</th>\n",
       "      <th>closing_price</th>\n",
       "      <th>transactions_in_blockchain</th>\n",
       "      <th>avg_block_size</th>\n",
       "      <th>sent_by_adress</th>\n",
       "      <th>avg_mining_difficulty</th>\n",
       "      <th>...</th>\n",
       "      <th>avg_transaction_value</th>\n",
       "      <th>median_transaction_value</th>\n",
       "      <th>tweets</th>\n",
       "      <th>google_trends</th>\n",
       "      <th>active_addresses</th>\n",
       "      <th>top100_to_total_percentage</th>\n",
       "      <th>avg_fee_to_reward</th>\n",
       "      <th>number_of_coins_in_circulation</th>\n",
       "      <th>miner_revenue</th>\n",
       "      <th>next_day_closing_price</th>\n",
       "    </tr>\n",
       "  </thead>\n",
       "  <tbody>\n",
       "    <tr>\n",
       "      <th>0</th>\n",
       "      <td>0</td>\n",
       "      <td>2013-01-01</td>\n",
       "      <td>13.5</td>\n",
       "      <td>13.6</td>\n",
       "      <td>13.2</td>\n",
       "      <td>13.3</td>\n",
       "      <td>31734</td>\n",
       "      <td>89033</td>\n",
       "      <td>26174</td>\n",
       "      <td>2979637</td>\n",
       "      <td>...</td>\n",
       "      <td>625.432</td>\n",
       "      <td>14.518</td>\n",
       "      <td>8193.0</td>\n",
       "      <td>1.194</td>\n",
       "      <td>37846.0</td>\n",
       "      <td>19.536</td>\n",
       "      <td>0.627</td>\n",
       "      <td>10621175.00</td>\n",
       "      <td>5.264860e+04</td>\n",
       "      <td>13.3</td>\n",
       "    </tr>\n",
       "    <tr>\n",
       "      <th>1</th>\n",
       "      <td>1</td>\n",
       "      <td>2013-01-02</td>\n",
       "      <td>13.3</td>\n",
       "      <td>13.4</td>\n",
       "      <td>13.2</td>\n",
       "      <td>13.3</td>\n",
       "      <td>39280</td>\n",
       "      <td>114077</td>\n",
       "      <td>31809</td>\n",
       "      <td>2979637</td>\n",
       "      <td>...</td>\n",
       "      <td>650.617</td>\n",
       "      <td>14.514</td>\n",
       "      <td>8193.0</td>\n",
       "      <td>1.497</td>\n",
       "      <td>43104.0</td>\n",
       "      <td>19.597</td>\n",
       "      <td>0.835</td>\n",
       "      <td>10621575.00</td>\n",
       "      <td>5.486525e+04</td>\n",
       "      <td>13.4</td>\n",
       "    </tr>\n",
       "    <tr>\n",
       "      <th>2</th>\n",
       "      <td>2</td>\n",
       "      <td>2013-01-03</td>\n",
       "      <td>13.3</td>\n",
       "      <td>13.5</td>\n",
       "      <td>13.3</td>\n",
       "      <td>13.4</td>\n",
       "      <td>42147</td>\n",
       "      <td>108023</td>\n",
       "      <td>38197</td>\n",
       "      <td>2979637</td>\n",
       "      <td>...</td>\n",
       "      <td>542.730</td>\n",
       "      <td>19.732</td>\n",
       "      <td>8193.0</td>\n",
       "      <td>1.798</td>\n",
       "      <td>51268.0</td>\n",
       "      <td>19.621</td>\n",
       "      <td>0.925</td>\n",
       "      <td>10628700.00</td>\n",
       "      <td>4.811833e+04</td>\n",
       "      <td>13.5</td>\n",
       "    </tr>\n",
       "    <tr>\n",
       "      <th>3</th>\n",
       "      <td>3</td>\n",
       "      <td>2013-01-04</td>\n",
       "      <td>13.4</td>\n",
       "      <td>13.5</td>\n",
       "      <td>13.3</td>\n",
       "      <td>13.5</td>\n",
       "      <td>48436</td>\n",
       "      <td>141811</td>\n",
       "      <td>34990</td>\n",
       "      <td>2979637</td>\n",
       "      <td>...</td>\n",
       "      <td>632.431</td>\n",
       "      <td>11.384</td>\n",
       "      <td>8193.0</td>\n",
       "      <td>1.841</td>\n",
       "      <td>47341.0</td>\n",
       "      <td>19.540</td>\n",
       "      <td>1.000</td>\n",
       "      <td>10632425.00</td>\n",
       "      <td>5.087274e+04</td>\n",
       "      <td>13.4</td>\n",
       "    </tr>\n",
       "    <tr>\n",
       "      <th>4</th>\n",
       "      <td>4</td>\n",
       "      <td>2013-01-05</td>\n",
       "      <td>13.5</td>\n",
       "      <td>13.6</td>\n",
       "      <td>13.3</td>\n",
       "      <td>13.4</td>\n",
       "      <td>39455</td>\n",
       "      <td>118240</td>\n",
       "      <td>38008</td>\n",
       "      <td>2979637</td>\n",
       "      <td>...</td>\n",
       "      <td>697.556</td>\n",
       "      <td>13.945</td>\n",
       "      <td>8193.0</td>\n",
       "      <td>1.826</td>\n",
       "      <td>53417.0</td>\n",
       "      <td>19.543</td>\n",
       "      <td>0.885</td>\n",
       "      <td>10633200.00</td>\n",
       "      <td>5.139673e+04</td>\n",
       "      <td>13.4</td>\n",
       "    </tr>\n",
       "    <tr>\n",
       "      <th>...</th>\n",
       "      <td>...</td>\n",
       "      <td>...</td>\n",
       "      <td>...</td>\n",
       "      <td>...</td>\n",
       "      <td>...</td>\n",
       "      <td>...</td>\n",
       "      <td>...</td>\n",
       "      <td>...</td>\n",
       "      <td>...</td>\n",
       "      <td>...</td>\n",
       "      <td>...</td>\n",
       "      <td>...</td>\n",
       "      <td>...</td>\n",
       "      <td>...</td>\n",
       "      <td>...</td>\n",
       "      <td>...</td>\n",
       "      <td>...</td>\n",
       "      <td>...</td>\n",
       "      <td>...</td>\n",
       "      <td>...</td>\n",
       "      <td>...</td>\n",
       "    </tr>\n",
       "    <tr>\n",
       "      <th>3372</th>\n",
       "      <td>3372</td>\n",
       "      <td>2022-03-27</td>\n",
       "      <td>44542.0</td>\n",
       "      <td>46947.0</td>\n",
       "      <td>44445.0</td>\n",
       "      <td>46859.0</td>\n",
       "      <td>218071</td>\n",
       "      <td>595651</td>\n",
       "      <td>421737</td>\n",
       "      <td>27452707696467</td>\n",
       "      <td>...</td>\n",
       "      <td>678394.000</td>\n",
       "      <td>505.231</td>\n",
       "      <td>202928.0</td>\n",
       "      <td>72.196</td>\n",
       "      <td>696507.0</td>\n",
       "      <td>15.548</td>\n",
       "      <td>0.905</td>\n",
       "      <td>18995681.25</td>\n",
       "      <td>3.761548e+07</td>\n",
       "      <td>47105.0</td>\n",
       "    </tr>\n",
       "    <tr>\n",
       "      <th>3373</th>\n",
       "      <td>3373</td>\n",
       "      <td>2022-03-28</td>\n",
       "      <td>46859.0</td>\n",
       "      <td>48199.0</td>\n",
       "      <td>46672.0</td>\n",
       "      <td>47105.0</td>\n",
       "      <td>293145</td>\n",
       "      <td>683575</td>\n",
       "      <td>520476</td>\n",
       "      <td>27452707696467</td>\n",
       "      <td>...</td>\n",
       "      <td>764524.000</td>\n",
       "      <td>649.352</td>\n",
       "      <td>239616.0</td>\n",
       "      <td>96.113</td>\n",
       "      <td>916092.0</td>\n",
       "      <td>15.531</td>\n",
       "      <td>1.077</td>\n",
       "      <td>18996587.50</td>\n",
       "      <td>4.754287e+07</td>\n",
       "      <td>47449.0</td>\n",
       "    </tr>\n",
       "    <tr>\n",
       "      <th>3374</th>\n",
       "      <td>3374</td>\n",
       "      <td>2022-03-29</td>\n",
       "      <td>47126.0</td>\n",
       "      <td>48127.0</td>\n",
       "      <td>47029.0</td>\n",
       "      <td>47449.0</td>\n",
       "      <td>286789</td>\n",
       "      <td>656320</td>\n",
       "      <td>519299</td>\n",
       "      <td>27452707696467</td>\n",
       "      <td>...</td>\n",
       "      <td>737579.000</td>\n",
       "      <td>609.259</td>\n",
       "      <td>234380.0</td>\n",
       "      <td>84.155</td>\n",
       "      <td>828096.0</td>\n",
       "      <td>15.464</td>\n",
       "      <td>1.045</td>\n",
       "      <td>18997462.50</td>\n",
       "      <td>4.533058e+07</td>\n",
       "      <td>47075.0</td>\n",
       "    </tr>\n",
       "    <tr>\n",
       "      <th>3375</th>\n",
       "      <td>3375</td>\n",
       "      <td>2022-03-30</td>\n",
       "      <td>47449.0</td>\n",
       "      <td>47714.0</td>\n",
       "      <td>46601.0</td>\n",
       "      <td>47075.0</td>\n",
       "      <td>272729</td>\n",
       "      <td>727827</td>\n",
       "      <td>485753</td>\n",
       "      <td>27452707696467</td>\n",
       "      <td>...</td>\n",
       "      <td>637283.000</td>\n",
       "      <td>590.518</td>\n",
       "      <td>200360.0</td>\n",
       "      <td>79.054</td>\n",
       "      <td>769223.0</td>\n",
       "      <td>15.466</td>\n",
       "      <td>1.308</td>\n",
       "      <td>18998493.75</td>\n",
       "      <td>4.037914e+07</td>\n",
       "      <td>45525.0</td>\n",
       "    </tr>\n",
       "    <tr>\n",
       "      <th>3376</th>\n",
       "      <td>3376</td>\n",
       "      <td>2022-03-31</td>\n",
       "      <td>47071.0</td>\n",
       "      <td>47624.0</td>\n",
       "      <td>45228.0</td>\n",
       "      <td>45525.0</td>\n",
       "      <td>279072</td>\n",
       "      <td>718935</td>\n",
       "      <td>516129</td>\n",
       "      <td>28315874718216</td>\n",
       "      <td>...</td>\n",
       "      <td>655276.000</td>\n",
       "      <td>662.979</td>\n",
       "      <td>164113.0</td>\n",
       "      <td>76.768</td>\n",
       "      <td>806205.0</td>\n",
       "      <td>15.459</td>\n",
       "      <td>1.889</td>\n",
       "      <td>18999187.50</td>\n",
       "      <td>4.107078e+07</td>\n",
       "      <td>46297.0</td>\n",
       "    </tr>\n",
       "  </tbody>\n",
       "</table>\n",
       "<p>3377 rows × 26 columns</p>\n",
       "</div>"
      ],
      "text/plain": [
       "      Unnamed: 0        Date  opening_price  highest_price  lowest_price  \\\n",
       "0              0  2013-01-01           13.5           13.6          13.2   \n",
       "1              1  2013-01-02           13.3           13.4          13.2   \n",
       "2              2  2013-01-03           13.3           13.5          13.3   \n",
       "3              3  2013-01-04           13.4           13.5          13.3   \n",
       "4              4  2013-01-05           13.5           13.6          13.3   \n",
       "...          ...         ...            ...            ...           ...   \n",
       "3372        3372  2022-03-27        44542.0        46947.0       44445.0   \n",
       "3373        3373  2022-03-28        46859.0        48199.0       46672.0   \n",
       "3374        3374  2022-03-29        47126.0        48127.0       47029.0   \n",
       "3375        3375  2022-03-30        47449.0        47714.0       46601.0   \n",
       "3376        3376  2022-03-31        47071.0        47624.0       45228.0   \n",
       "\n",
       "      closing_price  transactions_in_blockchain  avg_block_size  \\\n",
       "0              13.3                       31734           89033   \n",
       "1              13.3                       39280          114077   \n",
       "2              13.4                       42147          108023   \n",
       "3              13.5                       48436          141811   \n",
       "4              13.4                       39455          118240   \n",
       "...             ...                         ...             ...   \n",
       "3372        46859.0                      218071          595651   \n",
       "3373        47105.0                      293145          683575   \n",
       "3374        47449.0                      286789          656320   \n",
       "3375        47075.0                      272729          727827   \n",
       "3376        45525.0                      279072          718935   \n",
       "\n",
       "      sent_by_adress  avg_mining_difficulty  ...  avg_transaction_value  \\\n",
       "0              26174                2979637  ...                625.432   \n",
       "1              31809                2979637  ...                650.617   \n",
       "2              38197                2979637  ...                542.730   \n",
       "3              34990                2979637  ...                632.431   \n",
       "4              38008                2979637  ...                697.556   \n",
       "...              ...                    ...  ...                    ...   \n",
       "3372          421737         27452707696467  ...             678394.000   \n",
       "3373          520476         27452707696467  ...             764524.000   \n",
       "3374          519299         27452707696467  ...             737579.000   \n",
       "3375          485753         27452707696467  ...             637283.000   \n",
       "3376          516129         28315874718216  ...             655276.000   \n",
       "\n",
       "      median_transaction_value    tweets  google_trends  active_addresses  \\\n",
       "0                       14.518    8193.0          1.194           37846.0   \n",
       "1                       14.514    8193.0          1.497           43104.0   \n",
       "2                       19.732    8193.0          1.798           51268.0   \n",
       "3                       11.384    8193.0          1.841           47341.0   \n",
       "4                       13.945    8193.0          1.826           53417.0   \n",
       "...                        ...       ...            ...               ...   \n",
       "3372                   505.231  202928.0         72.196          696507.0   \n",
       "3373                   649.352  239616.0         96.113          916092.0   \n",
       "3374                   609.259  234380.0         84.155          828096.0   \n",
       "3375                   590.518  200360.0         79.054          769223.0   \n",
       "3376                   662.979  164113.0         76.768          806205.0   \n",
       "\n",
       "      top100_to_total_percentage  avg_fee_to_reward  \\\n",
       "0                         19.536              0.627   \n",
       "1                         19.597              0.835   \n",
       "2                         19.621              0.925   \n",
       "3                         19.540              1.000   \n",
       "4                         19.543              0.885   \n",
       "...                          ...                ...   \n",
       "3372                      15.548              0.905   \n",
       "3373                      15.531              1.077   \n",
       "3374                      15.464              1.045   \n",
       "3375                      15.466              1.308   \n",
       "3376                      15.459              1.889   \n",
       "\n",
       "      number_of_coins_in_circulation  miner_revenue  next_day_closing_price  \n",
       "0                        10621175.00   5.264860e+04                    13.3  \n",
       "1                        10621575.00   5.486525e+04                    13.4  \n",
       "2                        10628700.00   4.811833e+04                    13.5  \n",
       "3                        10632425.00   5.087274e+04                    13.4  \n",
       "4                        10633200.00   5.139673e+04                    13.4  \n",
       "...                              ...            ...                     ...  \n",
       "3372                     18995681.25   3.761548e+07                 47105.0  \n",
       "3373                     18996587.50   4.754287e+07                 47449.0  \n",
       "3374                     18997462.50   4.533058e+07                 47075.0  \n",
       "3375                     18998493.75   4.037914e+07                 45525.0  \n",
       "3376                     18999187.50   4.107078e+07                 46297.0  \n",
       "\n",
       "[3377 rows x 26 columns]"
      ]
     },
     "execution_count": 2,
     "metadata": {},
     "output_type": "execute_result"
    }
   ],
   "source": [
    "final_df = pd.read_csv('cleandata.csv')\n",
    "final_df"
   ]
  },
  {
   "cell_type": "code",
   "execution_count": 3,
   "metadata": {},
   "outputs": [
    {
     "data": {
      "text/plain": [
       "(3377, 26)"
      ]
     },
     "execution_count": 3,
     "metadata": {},
     "output_type": "execute_result"
    }
   ],
   "source": [
    "final_df.shape"
   ]
  },
  {
   "cell_type": "markdown",
   "metadata": {},
   "source": [
    "As `unnamed: 0` is an unnecessary variable, we are deleting it from our data"
   ]
  },
  {
   "cell_type": "code",
   "execution_count": 4,
   "metadata": {},
   "outputs": [],
   "source": [
    "del final_df['Unnamed: 0']"
   ]
  },
  {
   "cell_type": "code",
   "execution_count": 5,
   "metadata": {},
   "outputs": [
    {
     "data": {
      "text/plain": [
       "(3377, 25)"
      ]
     },
     "execution_count": 5,
     "metadata": {},
     "output_type": "execute_result"
    }
   ],
   "source": [
    "final_df.shape"
   ]
  },
  {
   "cell_type": "markdown",
   "metadata": {},
   "source": [
    "### Feature Smoothening function"
   ]
  },
  {
   "cell_type": "code",
   "execution_count": 6,
   "metadata": {
    "id": "MEpHsusvEUTl"
   },
   "outputs": [],
   "source": [
    "def feature_smoothening(df,feature_name,smoothening_type,smoothening_range=[7,30,90]):\n",
    "    if smoothening_type == 'sma':\n",
    "        for j in smoothening_range:\n",
    "            df[f'{smoothening_type}{j} {feature_name}'] = ta.sma(df[feature_name],j) \n",
    "\n",
    "    elif smoothening_type == 'var':\n",
    "        for j in smoothening_range:\n",
    "            df[f'{smoothening_type}{j} {feature_name}'] = ta.variance(df[feature_name],j)\n",
    "\n",
    "    elif smoothening_type == 'stdev':\n",
    "        for j in smoothening_range:\n",
    "            df[f'{smoothening_type}{j} {feature_name}'] = ta.stdev(df[feature_name],j)\n",
    "    \n",
    "    elif smoothening_type == 'ema':\n",
    "        for j in smoothening_range:\n",
    "            df[f'{smoothening_type}{j} {feature_name}'] = ta.ema(df[feature_name],j)\n",
    "\n",
    "    elif smoothening_type == 'wma':\n",
    "        for j in smoothening_range:\n",
    "            df[f'{smoothening_type}{j} {feature_name}'] = ta.wma(df[feature_name],j)\n",
    "\n",
    "    elif smoothening_type == 'rsi':\n",
    "        for j in smoothening_range:\n",
    "             df[f'{smoothening_type}{j} {feature_name}'] = ta.rsi(df[feature_name],j)\n",
    "\n",
    "    elif smoothening_type == 'roc':\n",
    "        for j in smoothening_range:\n",
    "            df[f'{smoothening_type}{j} {feature_name}'] = ta.roc(df[feature_name],j)  \n",
    "\n",
    "    elif smoothening_type == 'dema':\n",
    "        for j in smoothening_range:\n",
    "            df[f'{smoothening_type}{j} {feature_name}'] = ta.dema(df[feature_name],j) \n",
    "\n",
    "    elif smoothening_type == 'tema':\n",
    "        for j in smoothening_range:\n",
    "            df[f'{smoothening_type}{j} {feature_name}'] = ta.tema(df[feature_name],j) \n",
    "\n",
    "    elif smoothening_type == 'bband_lower':\n",
    "        for j in smoothening_range:\n",
    "            bband_df = ta.bbands(df[feature_name],j)\n",
    "            df[f'{smoothening_type}{j} {feature_name}'] = bband_df[f'BBL_{j}_2.0']\n",
    "\n",
    "    elif smoothening_type == 'bband_upper':\n",
    "        for j in smoothening_range:\n",
    "            bband_df = ta.bbands(df[feature_name],j)\n",
    "            df[f'{smoothening_type}{j} {feature_name}'] = bband_df[f'BBU_{j}_2.0']\n",
    "\n",
    "    elif smoothening_type == 'macd':\n",
    "        macd_df = ta.macd(df[feature_name])\n",
    "        df[f'{smoothening_type} hist {feature_name}'] = macd_df['MACDh_12_26_9']\n",
    "        df[f'{smoothening_type} signal {feature_name}'] = macd_df['MACDs_12_26_9']\n",
    "        df[f'{smoothening_type} {feature_name}'] = macd_df['MACD_12_26_9']\n",
    "\n",
    "    \n",
    "    "
   ]
  },
  {
   "cell_type": "markdown",
   "metadata": {},
   "source": [
    "### Smoothening highlights the special features in the data and different smoothening types can be used"
   ]
  },
  {
   "cell_type": "code",
   "execution_count": 7,
   "metadata": {
    "id": "S-EwXSUcEtkM"
   },
   "outputs": [],
   "source": [
    "feature_list = [i for i in list(final_df.columns) if i not in ['Date','next_day_closing_price']]"
   ]
  },
  {
   "cell_type": "code",
   "execution_count": 8,
   "metadata": {
    "colab": {
     "base_uri": "https://localhost:8080/",
     "height": 322
    },
    "id": "68bts3fLT8xh",
    "outputId": "3e1deca0-3c53-47e1-93d5-f77dac76e2cd"
   },
   "outputs": [],
   "source": [
    "feature_smoothening(final_df,'closing_price','macd')"
   ]
  },
  {
   "cell_type": "code",
   "execution_count": 9,
   "metadata": {},
   "outputs": [
    {
     "data": {
      "text/plain": [
       "['opening_price',\n",
       " 'highest_price',\n",
       " 'lowest_price',\n",
       " 'closing_price',\n",
       " 'transactions_in_blockchain',\n",
       " 'avg_block_size',\n",
       " 'sent_by_adress',\n",
       " 'avg_mining_difficulty',\n",
       " 'avg_hashrate',\n",
       " 'mining_profitability',\n",
       " 'sent_coins_in_usd',\n",
       " 'avg_transaction_fees',\n",
       " 'median_transaction_fees',\n",
       " 'avg_block_time',\n",
       " 'avg_transaction_value',\n",
       " 'median_transaction_value',\n",
       " 'tweets',\n",
       " 'google_trends',\n",
       " 'active_addresses',\n",
       " 'top100_to_total_percentage',\n",
       " 'avg_fee_to_reward',\n",
       " 'number_of_coins_in_circulation',\n",
       " 'miner_revenue']"
      ]
     },
     "execution_count": 9,
     "metadata": {},
     "output_type": "execute_result"
    }
   ],
   "source": [
    "feature_list"
   ]
  },
  {
   "cell_type": "markdown",
   "metadata": {},
   "source": [
    "#### We are using each feature for a period of past 7 days, 30 days & 90 days and that is specified as the range. Python library `Pandas-ta` was used to calculate all features."
   ]
  },
  {
   "cell_type": "markdown",
   "metadata": {
    "id": "nJBNTXZf7IqF"
   },
   "source": [
    "## Simple Moving Average\n",
    "* A simple moving average (SMA) calculates the average of a selected range of feature values for a number of periods in that range.\n",
    "\n",
    "* It determins if an asset price will continue or if it will reverse a bull or bear trend."
   ]
  },
  {
   "cell_type": "code",
   "execution_count": 10,
   "metadata": {
    "id": "_CYJ6-Z0FHLs"
   },
   "outputs": [],
   "source": [
    "for feature in feature_list:\n",
    "    feature_smoothening(final_df,feature,'sma')"
   ]
  },
  {
   "cell_type": "markdown",
   "metadata": {
    "id": "X39U3FBTdjx0"
   },
   "source": [
    "## Weighted Moving Average\n",
    "* While calculating average, It assigns a greater weighting to the most recent data points, and less weighting to data points in the distant past.  \n",
    "\n",
    "# <center>WMA = $\\frac{Price_{1} * n + Price_{1} * (n-1)+....+Price_{n}}{\\frac{n(n+1)}{2}}$</center>"
   ]
  },
  {
   "cell_type": "code",
   "execution_count": 11,
   "metadata": {
    "id": "Rk_3G7P9djyS"
   },
   "outputs": [],
   "source": [
    "for feature in feature_list:\n",
    "    feature_smoothening(final_df,feature,'wma')"
   ]
  },
  {
   "cell_type": "markdown",
   "metadata": {
    "id": "naWG1su6KoJ2"
   },
   "source": [
    "## Exponential Moving Average\n",
    "* The EMA is a moving average that places a greater weight and significance on the most recent data points. They work similar to WMA but formula is different.\n",
    "\n",
    "* The EMA adapts more quickly to price changes than the SMA does. For example, when a price reverses direction, the EMA will reverse direction more quickly than the SMA will, because the EMA formula gives more weight to recent prices and less weight to prices from the past.\n",
    "  \n",
    "#### <center>$EMA_{Today} = (Value_{Today} * \\frac{(Smoothing)}{(1 + Days)} + EMA_{Yesterday} * (1 - (\\frac{Smoothing}{1+Days})$</center>"
   ]
  },
  {
   "cell_type": "code",
   "execution_count": 12,
   "metadata": {
    "colab": {
     "background_save": true,
     "base_uri": "https://localhost:8080/",
     "height": 1000
    },
    "id": "4n-DZ8bhKoJ3",
    "outputId": "18732373-d045-4e24-aa66-e8d4f24aa732"
   },
   "outputs": [],
   "source": [
    "for feature in feature_list:\n",
    "    feature_smoothening(final_df,feature,'ema')"
   ]
  },
  {
   "cell_type": "markdown",
   "metadata": {
    "id": "wzXTpIDrZyVr"
   },
   "source": [
    "## Double Exponential Moving Average\n",
    "* DEMA responds more quickly to near-term price changes than a normal exponential moving average (EMA). \n",
    "\n",
    "* It helps to filter out noise\n",
    "\n",
    "#### <center>$DEMA = 2 * EMA - EMA(EMA)$</center>"
   ]
  },
  {
   "cell_type": "code",
   "execution_count": 13,
   "metadata": {
    "id": "tsKh1-9LZyVv"
   },
   "outputs": [],
   "source": [
    "for feature in feature_list:\n",
    "    feature_smoothening(final_df,feature,'dema')"
   ]
  },
  {
   "cell_type": "markdown",
   "metadata": {
    "id": "bOIzGWGjGRI4"
   },
   "source": [
    "## Triple Exponential Moving Average\n",
    "* It uses multiple EMA calculations and subtracts the lag to create a trend following indicator that reacts quickly to price changes.\n",
    "\n",
    "* The TEMA reacts to price changes quicker than a traditional MA or EMA will. This is because some of the lag has been subtracted out in the calculation.  \n",
    "\n",
    "#### <center>$TEMA = 3 * EMA - 3 * EMA(EMA) + EMA(EMA(EMA))$</center>"
   ]
  },
  {
   "cell_type": "code",
   "execution_count": 14,
   "metadata": {
    "id": "t_MDPNJay1dY"
   },
   "outputs": [],
   "source": [
    "for feature in feature_list:\n",
    "    feature_smoothening(final_df,feature,'tema')"
   ]
  },
  {
   "cell_type": "markdown",
   "metadata": {
    "id": "4DPPPrmdk16O"
   },
   "source": [
    "## Standard Deviaiton\n",
    "* Standard deviation is the statistical measure of market volatility, measuring how widely feature values are dispersed from the average feature values. \n",
    "* If feature values trade in a narrow trading range, the standard deviation will return a low value that indicates low volatility. \n",
    "* Conversely, if feature values swing wildly up and down, then standard deviation returns a high value that indicates high volatility."
   ]
  },
  {
   "cell_type": "code",
   "execution_count": 15,
   "metadata": {
    "colab": {
     "background_save": true,
     "base_uri": "https://localhost:8080/",
     "height": 1000
    },
    "id": "AnFU9fPHk16c",
    "outputId": "3a548196-2240-4aae-df4d-d6b81ac8579f"
   },
   "outputs": [],
   "source": [
    "for feature in feature_list:\n",
    "    feature_smoothening(final_df,feature,'stdev')"
   ]
  },
  {
   "cell_type": "markdown",
   "metadata": {
    "id": "YnLtLDltk7Q9"
   },
   "source": [
    "## Variance\n",
    "* Variance is another statistical measure of market volatility, measuring how widely feature values are dispersed from the average feature values. \n",
    "* It is interpreted similar to standard deviation as varaince is square of standadrd deviation"
   ]
  },
  {
   "cell_type": "code",
   "execution_count": 16,
   "metadata": {
    "colab": {
     "background_save": true,
     "base_uri": "https://localhost:8080/",
     "height": 1000
    },
    "id": "AbI3y8L8k7Q-",
    "outputId": "4767eac5-4715-455a-8ea1-b49293284403"
   },
   "outputs": [],
   "source": [
    "for feature in feature_list:\n",
    "    feature_smoothening(final_df,feature,'var')"
   ]
  },
  {
   "cell_type": "markdown",
   "metadata": {
    "id": "ejJEEejQ9oEc"
   },
   "source": [
    "## Relative Strength Index\n",
    "\n",
    "#### <center>$RSI = 100 – \\frac{100}{(1 + RS)}$\n",
    "\n",
    "### <center>$RS = \\frac{n_{up}}{n_{down}}$\n",
    "    \n",
    "  $n_{up}$ = average gain, $n_{down}$ = average loss\n",
    "\n",
    "An asset is considered oversold or undervalued when the RSI drops below 30. On the other hand, it's deemed to be overbought if the RSI goes above 70."
   ]
  },
  {
   "cell_type": "code",
   "execution_count": 17,
   "metadata": {
    "colab": {
     "background_save": true,
     "base_uri": "https://localhost:8080/",
     "height": 1000
    },
    "id": "-tjJ7GeK9oEd",
    "outputId": "823c2546-d3b2-437c-8a9e-4f6af5c87c2d"
   },
   "outputs": [],
   "source": [
    "for feature in feature_list:\n",
    "    feature_smoothening(final_df,feature,'rsi')"
   ]
  },
  {
   "cell_type": "markdown",
   "metadata": {
    "id": "ydis_NKx9uww"
   },
   "source": [
    "## Rate of Change\n",
    "* Measures the percentage change in price between the current feature value and the feature a certain number of periods ago.e.g., 7,30,90\n",
    "\n",
    "*   A rising ROC above zero typically confirms an uptrend while a falling ROC below zero indicates a downtrend.\n",
    "\n",
    "\n",
    "\n",
    "\n"
   ]
  },
  {
   "cell_type": "code",
   "execution_count": 18,
   "metadata": {
    "colab": {
     "background_save": true,
     "base_uri": "https://localhost:8080/",
     "height": 1000
    },
    "id": "EkXRuGYl92eH",
    "outputId": "fae63a62-7d13-44da-8c81-78cb1c69e6c7"
   },
   "outputs": [],
   "source": [
    "for feature in feature_list:\n",
    "    feature_smoothening(final_df,feature,'roc')"
   ]
  },
  {
   "cell_type": "markdown",
   "metadata": {
    "id": "o8uLt0w-JUU1"
   },
   "source": [
    "## Bollinger Bands\n",
    "* Bollinger Bands are envelopes (Upper and Lower range levels) plotted at a standard deviation level above and below a simple moving average of the price. Because the distance of the bands is based on standard deviation, they adjust to volatility swings in the underlying price.\n",
    "\n",
    "\n",
    "\n",
    "<center>$Upper band =  SMA_{n_day} + 2(SD_{n_day})$</center>\n",
    "\n",
    "<center>$Lower band =  SMA_{n_day} – 2(SD_{n_day})$</center>\n",
    "\n",
    "\n",
    "* Bollinger bands help determine whether values are high or low on a relative basis. They are used in pairs, both upper and lower bands and in conjunction with a moving average. Further, the pair of bands is not intended to be used on its own. Use the pair to confirm signals given with other indicators.\n"
   ]
  },
  {
   "cell_type": "code",
   "execution_count": 19,
   "metadata": {
    "colab": {
     "background_save": true,
     "base_uri": "https://localhost:8080/",
     "height": 1000
    },
    "id": "Z7Iy41qRbVX_",
    "outputId": "50445a1a-2c10-47ee-bdc0-a2d451b7050f"
   },
   "outputs": [],
   "source": [
    "for feature in feature_list:\n",
    "    feature_smoothening(final_df,feature,'bband_lower')"
   ]
  },
  {
   "cell_type": "code",
   "execution_count": 20,
   "metadata": {
    "colab": {
     "background_save": true,
     "base_uri": "https://localhost:8080/",
     "height": 1000
    },
    "id": "Jujzh0Xib7So",
    "outputId": "5aabf6fc-d1ed-4238-b71a-918bd76e0971"
   },
   "outputs": [],
   "source": [
    "for feature in feature_list:\n",
    "    if feature not in ['Date','weekday', 'year', 'month','7th_day_avg_price','30th_day_avg_price','90th_day_avg_price','avg_btc_price']:\n",
    "        feature_smoothening(final_df,feature,'bband_upper')"
   ]
  },
  {
   "cell_type": "markdown",
   "metadata": {
    "id": "jGsBE-AdKzUQ"
   },
   "source": [
    "## Moving Average Convergence Divergence\n",
    "The MACD represents a trend following indicator that highlights whether the short-term price momentum is moving in the same direction as the long-term price momentum, and in cases where it's not, then it's used to determine if a trend change is near. The MACD consists of four components.\n",
    "\n",
    "\n",
    "\n"
   ]
  },
  {
   "cell_type": "code",
   "execution_count": 21,
   "metadata": {
    "colab": {
     "background_save": true,
     "base_uri": "https://localhost:8080/",
     "height": 1000
    },
    "id": "L69uDMy_960P",
    "outputId": "a0ac2083-b387-4edf-a481-51eda01546a1"
   },
   "outputs": [],
   "source": [
    "for feature in feature_list:\n",
    "    feature_smoothening(final_df,feature,'macd')"
   ]
  },
  {
   "cell_type": "markdown",
   "metadata": {},
   "source": [
    "plt.figure(figsize=(20,20))\n",
    "corrMatrix = final_df.corr()\n",
    "sns.heatmap(corrMatrix, annot=True,linewidths=3, linecolor='black').set(title='Heatmap for correlation')"
   ]
  },
  {
   "cell_type": "markdown",
   "metadata": {
    "id": "JE-RxK4QjUw7"
   },
   "source": [
    "## Final Processing and saving file"
   ]
  },
  {
   "cell_type": "code",
   "execution_count": null,
   "metadata": {
    "colab": {
     "background_save": true
    },
    "id": "EpqQhZfkccSr"
   },
   "outputs": [],
   "source": [
    "final_df = final_df[(final_df['Date'] >= '2013-04-01')].fillna(method='bfill')"
   ]
  },
  {
   "cell_type": "code",
   "execution_count": null,
   "metadata": {
    "colab": {
     "background_save": true,
     "base_uri": "https://localhost:8080/"
    },
    "id": "PiP30zonz82_",
    "outputId": "0ec82d0b-c54f-42d6-f483-e7d493e07b38"
   },
   "outputs": [],
   "source": [
    "final_df.shape"
   ]
  },
  {
   "cell_type": "code",
   "execution_count": null,
   "metadata": {},
   "outputs": [],
   "source": [
    "final_df.head()"
   ]
  },
  {
   "cell_type": "code",
   "execution_count": null,
   "metadata": {
    "id": "fOuT-wHodLc8"
   },
   "outputs": [],
   "source": [
    "final_df.to_csv('final_data_after_feat_engg.csv')"
   ]
  },
  {
   "cell_type": "code",
   "execution_count": null,
   "metadata": {},
   "outputs": [],
   "source": []
  },
  {
   "cell_type": "code",
   "execution_count": null,
   "metadata": {},
   "outputs": [],
   "source": []
  },
  {
   "cell_type": "code",
   "execution_count": null,
   "metadata": {},
   "outputs": [],
   "source": [
    "#plot a heatmap again after generating features"
   ]
  },
  {
   "cell_type": "markdown",
   "metadata": {},
   "source": [
    "## Conclusion for feature engineering"
   ]
  },
  {
   "cell_type": "markdown",
   "metadata": {},
   "source": [
    "Feature engineering is the addition and construction of additional variables, or features,so that it  improves our\n",
    "model performance and accuracy.Here we can observe that during the initial stage there was 3377 rows and 25 columns\n",
    "and now the rows are reduced to 3287 and the columns are now increased as more features are added to the existing data.  "
   ]
  }
 ],
 "metadata": {
  "colab": {
   "collapsed_sections": [],
   "name": "CS01.03 Feature Engineering.ipynb",
   "provenance": []
  },
  "kernelspec": {
   "display_name": "Python 3 (ipykernel)",
   "language": "python",
   "name": "python3"
  },
  "language_info": {
   "codemirror_mode": {
    "name": "ipython",
    "version": 3
   },
   "file_extension": ".py",
   "mimetype": "text/x-python",
   "name": "python",
   "nbconvert_exporter": "python",
   "pygments_lexer": "ipython3",
   "version": "3.9.7"
  }
 },
 "nbformat": 4,
 "nbformat_minor": 1
}
